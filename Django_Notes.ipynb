{
 "cells": [
  {
   "cell_type": "markdown",
   "metadata": {},
   "source": [
    "# Creating a Django App\n",
    "This is a blueprint for creating django applications and can be used as a reference. "
   ]
  },
  {
   "cell_type": "markdown",
   "metadata": {},
   "source": [
    "### First Steps - Development Environment\n",
    "First we need to create a folder in our system (`mkdir folder_name`).  \n",
    "Next, we create a virtual environment using some package/env manager (yen, pyenv, pixi) and the defined Python version.  \n",
    "Then we install the desired Django version with the pip command.  "
   ]
  },
  {
   "cell_type": "markdown",
   "metadata": {},
   "source": [
    "### Creating the Django Project\n",
    "To create a django project and the necessary files to run the project we need to run the following command:  \n",
    "`django-admin startproject project_name`.  \n",
    "In this case the `project_name` will be `myproject`.  \n",
    "This will create a folder `myproject` which contains:  \n",
    "- Another folder called `myproject`: this is a Python package that contains important files for our project:  \n",
    "    - `__init__.py` - Allows Python to know that the directory where it is contained in is a module.  \n",
    "    - `settings.py` - Contains the settings for our application.  \n",
    "    - `urls.py` - Has the global URL mappings that Django will use locate views.  \n",
    "    - `asgi.py` and `wsgi.py` - Are ASGI and WSGI web servers used to communicate with our django app when you deploy it to a production web server.  \n",
    "- A file named `manage.py`: this is a file executed from the command line to interact with our project. This file is used to start the Django server. This file is not mapped in our system path, like `django-admin`, because of that we need to run it using Python.  \n",
    "  \n",
    "**To execute this file we need to enter our project folder** (`cd myproject`) and run:  \n",
    "`python manage.py runserver`.  \n",
    "The use of manage.py in this manner is called generally *management command*, in this specific case *runserver management command*. This starts the development server intended to be executed only during the app's creation. It also can be used to test the app created in other devices like smartphones and tablets. This can be achieved by using the command:  \n",
    "`python manage.py runserver 0.0.0.0:8000`.  \n",
    "This command will have the server listening to all computer's adresses and allow other devices to acess the app through the local IP adress `http://<Your-Local-IP>:8000`, where **Your-Local-IP** can be found in linux through the command `ip adress` in the **inet** tag in either **eth0** or **wlan0** active network interfaces. This testing can also be done through browser's Developer Tools.  \n",
    "Most of the commands used to interact with our project will be supplied to this file using the command line. The list of commands that can be passed to `manage.py` is listed [here](https://docs.djangoproject.com/pt-br/5.0/ref/django-admin/)."
   ]
  },
  {
   "cell_type": "markdown",
   "metadata": {},
   "source": [
    "### Creating Apps\n",
    "After starting the django project, we need to start our django app. Is a good practice to segregate the django project into different apps by functionality. The apps are created using the *startapp management command.*:  \n",
    "`python manage.py startapp app_name`.  \n",
    "This command creates the app folder and the files requested for develompment. Similar as when we created a project, this command creates some files and a folder that we will use to develop our project. These files are:  \n",
    "- `__init__.py` - The same function as described previously.  \n",
    "- `admin.py` - Defines how the app's models will be exposed in Django admin site.  \n",
    "- `apps.py` - Contains some configuration metadata of our app. (Do not require editing).  \n",
    "- `models.py` - This is where the models of our app are defined.  \n",
    "- `tests.py` - The app's tests will be stored in this file.  \n",
    "- `views.py` - The views that respond to HTTPS requests are stored here.  \n",
    "- `migrations` folder - Django uses this directory to update the underlying database of the app based on changes made through the app models. The change are saved here using the `python manage.py makemigrations` command and are appied to the database after the execution of the `python manage.py migrate` command.   \n",
    "\n",
    "In general, Django projects are composed by a certain number of app that can be moved to another project if well designed.  "
   ]
  },
  {
   "cell_type": "markdown",
   "metadata": {},
   "source": [
    "### Writing Views\n",
    "Views are simply functions (and sometimes classes) that accepts a `HttpRequest` instance and may also receive some parameters from the URL. After that, it performs some operation such as fetching data from a database or create/modify some data and at last returning a `HttpResponse` with HTML.  \n",
    "The `HttpRequest` passed to a view generally has the following:  \n",
    "- `method` - A string conatining the method that the browser used to request the page (usually **GET** or **POST**).  \n",
    "- `GET` - A `QueryDict` containing the parameters used in the URL query string (the part after the ? sign).  \n",
    "- `POST` - Another `QueryDict` containing the parameters sent to the view i a **POST** request, such a form submission.  \n",
    "- `headers` - A case sensitive key dictionary with the HTTP headers from the request.  \n",
    "- `path` - This is the path used in the request that is parssed and sent to the view automatically by Django.  "
   ]
  },
  {
   "cell_type": "markdown",
   "metadata": {},
   "source": [
    "### URLs to Views\n",
    "To Django know which view to call after receiveing a request it looks into a URL mapping. This mapping builds a link between a URL and a specific view and is defined in the `urls.py` file (although it can also be defined inside a diferent file for each app or in a different URLConf root file).  \n",
    "The mappings are defined in a variable called `urlpatterns` defined inside `urls.py`. This variable holds a list of paths that django evaluate to find a match for the URL requested. The match can resolve to a view function or another `urls.py` file. After finding the view, Django calls it with the HttpRequest and the arguments as parameters parsed from the URL.  \n",
    "  \n",
    "The `urlpatterns` variable is a list of paths in which each item is a call to the `path` function, which takes the path of the URL as the first parameter and either a view or another file also containing an `urlpatterns` (and can also use the `re_path` function that takes a regular expression for more advanced configuration):"
   ]
  },
  {
   "cell_type": "code",
   "execution_count": null,
   "metadata": {},
   "outputs": [],
   "source": [
    "from django.contrib import admin\n",
    "from django.urls import path, include\n",
    "import reviews.views\n",
    "\n",
    "urlpatterns = [\n",
    "    path(\"admin/\", admin.site.urls),\n",
    "    path(\"author/\", include(\"reviews.urls\")), # Added as an example\n",
    "    path(\"author/\", reviews.views.index) # Added as an example\n",
    "]"
   ]
  },
  {
   "cell_type": "markdown",
   "metadata": {},
   "source": [
    "The `include` function takes a path to another URLconf module (from a different Django app) that should be \"included\" in this place."
   ]
  }
 ],
 "metadata": {
  "kernelspec": {
   "display_name": "venv",
   "language": "python",
   "name": "python3"
  },
  "language_info": {
   "name": "python",
   "version": "3.11.7"
  }
 },
 "nbformat": 4,
 "nbformat_minor": 2
}
