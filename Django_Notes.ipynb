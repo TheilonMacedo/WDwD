{
 "cells": [
  {
   "cell_type": "markdown",
   "metadata": {},
   "source": [
    "# Creating a Django App\n",
    "This is a blueprint for creating django applications and can be used as a reference.  \n",
    "### First Steps\n",
    "To create a django project and the necessary files to run the project we need to run the following command:  \n",
    "`django-admin startproject project_name`.  \n",
    "In this case the `project_name` will be `myproject`.  \n",
    "  \n",
    "This will create a folder `myproject` which contains:  \n",
    "- Another folder called `myproject`: this is a Python package that contains important files for our project.     \n",
    "- A file named `manage.py`: this is a file executed from the command line to interact with our project. This file is used to start the Django server. This file is not mapped in our system path, like `django-admin`, because of that we need to run it using Python.  \n",
    "To execute this file we need to enter our project folder and run:  \n",
    "`python manage.py runserver`.  \n",
    "The use of manage.py in this manner is called generally *management command*, in this specific case *runserver management command*."
   ]
  },
  {
   "cell_type": "markdown",
   "metadata": {},
   "source": [
    "### Creating Apps\n",
    "After starting the django project, we need to start our django app. Is a good practice to segregate the django project into different apps by functionality. The apps are created using the *startapp management command.*:  \n",
    "`python manage.py startapp app_name`.  \n",
    "This command creates the app folder and the files requested for develompment inside our app folder."
   ]
  }
 ],
 "metadata": {
  "language_info": {
   "name": "python"
  }
 },
 "nbformat": 4,
 "nbformat_minor": 2
}
