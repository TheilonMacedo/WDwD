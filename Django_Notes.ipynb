{
 "cells": [
  {
   "cell_type": "markdown",
   "metadata": {},
   "source": [
    "# Creating a Django App\n",
    "This is a blueprint for creating django applications and can be used as a reference. "
   ]
  },
  {
   "cell_type": "markdown",
   "metadata": {},
   "source": [
    "### First Steps - Development Environment\n",
    "First we need to create a folder in our system (`mkdir folder_name`).  \n",
    "Next, we create a virtual environment using some package/env manager (yen, pyenv, pixi) and the defined Python version.  \n",
    "Then we install the desired Django version with the pip command.  "
   ]
  },
  {
   "cell_type": "markdown",
   "metadata": {},
   "source": [
    "### Creating the Django Project\n",
    "To create a django project and the necessary files to run the project we need to run the following command:  \n",
    "`django-admin startproject project_name`.  \n",
    "In this case the `project_name` will be `myproject`.  \n",
    "This will create a folder `myproject` which contains:  \n",
    "- Another folder called `myproject`: this is a Python package that contains important files for our project:  \n",
    "    - `__init__` - Allows Python to know that the directory where it is contained in is a module.  \n",
    "    - `settings.py` - Contains the settings for our application.  \n",
    "    - `urls.py` - Has the global URL mappings that Django will use locate views.  \n",
    "    - `asgi.py` and `wsgi.py` - Are ASGI and WSGI web servers used to communicate with our django app when you deploy it to a production web server.  \n",
    "- A file named `manage.py`: this is a file executed from the command line to interact with our project. This file is used to start the Django server. This file is not mapped in our system path, like `django-admin`, because of that we need to run it using Python.  \n",
    "  \n",
    "**To execute this file we need to enter our project folder** (`cd myproject`) and run:  \n",
    "`python manage.py runserver`.  \n",
    "The use of manage.py in this manner is called generally *management command*, in this specific case *runserver management command*. This starts the development server intended to be executed only during the app's creation. It also can be used to test the app created in other devices like smartphones and tablets. This can be achieved by using the command:  \n",
    "`python manage.py runserver 0.0.0.0:8000`.  \n",
    "This command will have the server listening to all computer's adresses and allow other devices to acess the app through the local IP adress `http://<Your-Local-IP>:8000`, where **Your-Local-IP** can be found in linux through the command `ip adress`. This testing can also be done through browser's Developer Tools.  \n",
    "Most of the commands used to interact with our project will be supplied to this file using the command line. The list of commands that can be passed to `manage.py` is listed [here](https://docs.djangoproject.com/pt-br/5.0/ref/django-admin/)."
   ]
  },
  {
   "cell_type": "markdown",
   "metadata": {},
   "source": [
    "### Creating Apps\n",
    "After starting the django project, we need to start our django app. Is a good practice to segregate the django project into different apps by functionality. The apps are created using the *startapp management command.*:  \n",
    "`python manage.py startapp app_name`.  \n",
    "This command creates the app folder and the files requested for develompment."
   ]
  }
 ],
 "metadata": {
  "language_info": {
   "name": "python"
  }
 },
 "nbformat": 4,
 "nbformat_minor": 2
}
